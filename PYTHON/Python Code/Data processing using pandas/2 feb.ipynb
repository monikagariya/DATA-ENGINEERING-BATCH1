{
 "cells": [
  {
   "cell_type": "code",
   "execution_count": 5,
   "id": "78ad7e22-f414-4cb3-a752-780061aa6a43",
   "metadata": {},
   "outputs": [
    {
     "name": "stdout",
     "output_type": "stream",
     "text": [
      "DBMS C 9915103000 Monika\n",
      "Python A 8815103057 Ram\n",
      "C++ A+ 8815103057 Ram\n"
     ]
    }
   ],
   "source": [
    "#Python code to demonstrate sorting in JSON. \n",
    "import json \n",
    "data='''{   \n",
    "   \"Student\":[   \n",
    "      {   \n",
    "         \"enrollment_no\":\"9915103000\", \n",
    "         \"name\":\"Monika\", \n",
    "         \"subject\":[   \n",
    "            {   \n",
    "               \"code\":\"DBMS\", \n",
    "               \"grade\":\"C\" \n",
    "            } \n",
    "         ] \n",
    "      }, \n",
    "      {   \n",
    "         \"enrollment_no\":\"8815103057\", \n",
    "         \"name\":\"Ram\", \n",
    "         \"subject\":[   \n",
    "            {   \n",
    "               \"code\":\"Python\", \n",
    "               \"grade\":\"A\" \n",
    "            }, \n",
    "            {   \n",
    "               \"code\":\"C++\", \n",
    "               \"grade\":\"A+\" \n",
    "            } \n",
    "         ] \n",
    "      } \n",
    "   ] \n",
    "}'''  \n",
    "\n",
    "\n",
    "json_parse = json.loads(data)   \n",
    "for it in json_parse['Student']: \n",
    "    for y in it['subject']: \n",
    "        print(y['code'],y['grade'],it['enrollment_no'],it['name']) "
   ]
  },
  {
   "cell_type": "code",
   "execution_count": null,
   "id": "d396a34e-e5ba-4bfe-9d86-a9ac05e1f3eb",
   "metadata": {},
   "outputs": [],
   "source": []
  },
  {
   "cell_type": "code",
   "execution_count": 8,
   "id": "ab836e89-faec-45de-8d99-25fb8178ab70",
   "metadata": {},
   "outputs": [
    {
     "name": "stdout",
     "output_type": "stream",
     "text": [
      "3\n",
      "hi\n"
     ]
    }
   ],
   "source": [
    "tuple = (1, 2, 'hi')\n",
    "print(len(tuple))  ## 3\n",
    "print(tuple[2])    ## hi\n",
    "tuple = (1, 2, 'bye')  \n",
    " \n"
   ]
  },
  {
   "cell_type": "code",
   "execution_count": null,
   "id": "0bc7c0dc-2373-48b8-8bce-78057a63dbb2",
   "metadata": {},
   "outputs": [],
   "source": []
  },
  {
   "cell_type": "code",
   "execution_count": 9,
   "id": "8ee93864-40e6-4c45-889d-0216dbf640d6",
   "metadata": {},
   "outputs": [],
   "source": [
    "#NUMPY= NUMERICAL PYTHON"
   ]
  },
  {
   "cell_type": "code",
   "execution_count": 21,
   "id": "f4208d43-3e9d-4363-b3cb-9e5e9c5f2de6",
   "metadata": {},
   "outputs": [
    {
     "name": "stdout",
     "output_type": "stream",
     "text": [
      "[20.1 20.8 21.9 22.5 22.7 22.3 21.8 21.2 20.9 20.1]\n",
      "<class 'numpy.ndarray'>\n",
      "[68.18 69.44 71.42 72.5  72.86 72.14 71.24 70.16 69.62 68.18]\n"
     ]
    }
   ],
   "source": [
    "import numpy\n",
    "import numpy as np\n",
    "cvalues = [20.1, 20.8, 21.9, 22.5, 22.7, 22.3, 21.8, 21.2, 20.9, 20.1]\n",
    "\n",
    "C = np.array(cvalues)\n",
    "print(C)\n",
    "print(type(C))\n",
    "\n",
    "print(C * 9 / 5 + 32)\n"
   ]
  },
  {
   "cell_type": "code",
   "execution_count": 11,
   "id": "9e339d89-edeb-4e6d-9415-cf5d1647fe43",
   "metadata": {},
   "outputs": [
    {
     "name": "stdout",
     "output_type": "stream",
     "text": [
      "[1 2 3 4 5 6 7 8 9]\n",
      "range(1, 10)\n",
      "[1, 2, 3, 4, 5, 6, 7, 8, 9]\n",
      "[ 0.  1.  2.  3.  4.  5.  6.  7.  8.  9. 10.]\n",
      "[ 0.5  1.3  2.1  2.9  3.7  4.5  5.3  6.1  6.9  7.7  8.5  9.3 10.1]\n"
     ]
    }
   ],
   "source": [
    "import numpy as np\n",
    " \n",
    "a = np.arange(1, 10)\n",
    "print(a)\n",
    "\n",
    "x = range(1, 10)\n",
    "print(x)    # x is an iterator\n",
    "print(list(x))\n",
    "\n",
    "x = np.arange(10.4)\n",
    "print(x)\n",
    "\n",
    "x = np.arange(0.5, 10.4, 0.8)\n",
    "print(x)"
   ]
  },
  {
   "cell_type": "code",
   "execution_count": null,
   "id": "08f214d1-ee5a-47c0-867e-db85af21a6e0",
   "metadata": {},
   "outputs": [],
   "source": [
    "\n",
    " "
   ]
  },
  {
   "cell_type": "code",
   "execution_count": 26,
   "id": "e3355dea-4084-4950-82c0-e19b639cc343",
   "metadata": {},
   "outputs": [
    {
     "name": "stdout",
     "output_type": "stream",
     "text": [
      "[ 1.   2.5  4.   5.5  7.   8.5 10. ]\n",
      "(array([1. , 2.8, 4.6, 6.4, 8.2]), 1.8)\n",
      "(array([1., 4.]), 3.0)\n",
      "[1.  2.5 4. ]\n"
     ]
    }
   ],
   "source": [
    "\n",
    "import numpy as np\n",
    " \n",
    "# 50 values between 1 and 10:\n",
    "print(np.linspace(1,10,7))\n",
    "print(np.linspace(1, 10, 5, endpoint=False,retstep=True))\n",
    "print(np.linspace(1,4,2,retstep=True))\n",
    "print(np.linspace(1,4,3))\n",
    " \n",
    " "
   ]
  },
  {
   "cell_type": "markdown",
   "id": "d3de44e0-0ad5-44db-9e09-74019460b280",
   "metadata": {},
   "source": [
    "#GET COUNT BY STATUS USING PANDAS DATAFRAME"
   ]
  },
  {
   "cell_type": "code",
   "execution_count": 2,
   "id": "b65a5764-55a9-4e4d-9f25-1451ace3756a",
   "metadata": {},
   "outputs": [
    {
     "name": "stdout",
     "output_type": "stream",
     "text": [
      "Name         6\n",
      "Physics      5\n",
      "Chemistry    5\n",
      "Math         4\n",
      "dtype: int64\n",
      "Name         0\n",
      "Physics      1\n",
      "Chemistry    1\n",
      "Math         2\n",
      "dtype: int64\n",
      "Total Null values count:  4\n"
     ]
    }
   ],
   "source": [
    "import numpy as np\n",
    "import pandas as pd\n",
    "NaN = np.nan\n",
    "dataframe = pd.DataFrame({'Name': ['Shobhit', 'Vaibhav',\n",
    "                                   'Vimal', 'Sourabh',\n",
    "                                   'Rahul', 'Shobhit'],\n",
    "                          'Physics': [11, 12, 13, 14, NaN, 11],\n",
    "                          'Chemistry': [10, 14, NaN, 18, 20, 10],\n",
    "                          'Math': [13, 10, 15, NaN, NaN, 13]})\n",
    "print(dataframe.count())\n",
    "print(dataframe.isnull().sum())\n",
    " \n",
    "# it will give the total null\n",
    "# values present in our dataframe\n",
    "print(\"Total Null values count: \",\n",
    "      dataframe.isnull().sum().sum())\n",
    " \n",
    " \n",
    " \n",
    " "
   ]
  },
  {
   "cell_type": "code",
   "execution_count": 4,
   "id": "08a8eea8-e721-4908-832b-76ff2c434cd1",
   "metadata": {},
   "outputs": [
    {
     "name": "stdout",
     "output_type": "stream",
     "text": [
      "Created Dataframe\n",
      "      Name  Physics  Chemistry  Math\n",
      "0  Shobhit     11.0       10.0  13.0\n",
      "1  Vaibhav     12.0       14.0  10.0\n",
      "2    Vimal     13.0        NaN  15.0\n",
      "3  Sourabh     14.0       18.0   NaN\n",
      "4    Rahul      NaN       20.0   NaN\n",
      "5  Shobhit     11.0       10.0  13.0\n",
      "Count of all values wrt columns\n",
      "Name         6\n",
      "Physics      5\n",
      "Chemistry    5\n",
      "Math         4\n",
      "dtype: int64\n",
      "Count of all values wrt rows\n",
      "0    4\n",
      "1    4\n",
      "2    3\n",
      "3    3\n",
      "4    2\n",
      "5    4\n",
      "dtype: int64\n",
      "0    4\n",
      "1    4\n",
      "2    3\n",
      "3    3\n",
      "4    2\n",
      "5    4\n",
      "dtype: int64\n",
      "Null Values counts \n",
      "Name         0\n",
      "Physics      1\n",
      "Chemistry    1\n",
      "Math         2\n",
      "dtype: int64\n",
      "Total null values 4\n",
      "Count of students with physics marks greater than 11 is-> 3\n",
      "      Name  Physics  Chemistry  Math\n",
      "1  Vaibhav     12.0       14.0  10.0\n",
      "2    Vimal     13.0        NaN  15.0\n",
      "3  Sourabh     14.0       18.0   NaN\n",
      "Count of students -> 1\n",
      "      Name  Physics  Chemistry  Math\n",
      "1  Vaibhav     12.0       14.0  10.0\n"
     ]
    }
   ],
   "source": [
    "\n",
    "# importing Libraries\n",
    "import pandas as pd\n",
    "import numpy as np\n",
    " \n",
    "# Creating dataframe using dictionary\n",
    "NaN = np.nan\n",
    "dataframe = pd.DataFrame({'Name': ['Shobhit', 'Vaibhav',\n",
    "                                  'Vimal', 'Sourabh',\n",
    "                                  'Rahul', 'Shobhit'],\n",
    "                         'Physics': [11, 12, 13, 14, NaN, 11],\n",
    "                         'Chemistry': [10, 14, NaN, 18, 20, 10],\n",
    "                         'Math': [13, 10, 15, NaN, NaN, 13]})\n",
    " \n",
    "print(\"Created Dataframe\")\n",
    "print(dataframe)\n",
    " \n",
    "# finding Count of all columns\n",
    "print(\"Count of all values wrt columns\")\n",
    "print(dataframe.count())\n",
    " \n",
    "# Count according to rows\n",
    "print(\"Count of all values wrt rows\")\n",
    "print(dataframe.count(axis=1))\n",
    "print(dataframe.count(axis='columns'))\n",
    " \n",
    "# count of null values\n",
    "print(\"Null Values counts \")\n",
    "print(dataframe.isnull().sum())\n",
    "print(\"Total null values\",\n",
    "     dataframe.isnull().sum().sum())\n",
    " \n",
    "# count of student with greater\n",
    "# than 11 marks in physics\n",
    "print(\"Count of students with physics marks greater than 11 is->\",\n",
    "     dataframe[dataframe['Physics'] > 11]['Name'].count())\n",
    " \n",
    "# resultant of above dataframe\n",
    "print(dataframe[dataframe['Physics'] > 11])\n",
    "print(\"Count of students ->\",\n",
    "     dataframe[(dataframe['Physics'] > 10) &\n",
    "               (dataframe['Chemistry'] > 11) &\n",
    "               (dataframe['Math'] > 9)]['Name'].count())\n",
    " \n",
    "print(dataframe[(dataframe['Physics'] > 10) &\n",
    "               (dataframe['Chemistry'] > 11) &\n",
    "               (dataframe['Math'] > 9)])"
   ]
  },
  {
   "cell_type": "markdown",
   "id": "257bbba0-2b13-41c8-9482-663fa6c83eff",
   "metadata": {},
   "source": [
    "# read a csv file using pandas"
   ]
  },
  {
   "cell_type": "code",
   "execution_count": 9,
   "id": "f48ceadf-23a0-4856-9ab1-25fa54ca0b8a",
   "metadata": {},
   "outputs": [
    {
     "name": "stdout",
     "output_type": "stream",
     "text": [
      "<bound method NDFrame.head of      Pregnancies  Glucose  BloodPressure  SkinThickness  Insulin   BMI  \\\n",
      "0              6      148             72             35        0  33.6   \n",
      "1              1       85             66             29        0  26.6   \n",
      "2              8      183             64              0        0  23.3   \n",
      "3              1       89             66             23       94  28.1   \n",
      "4              0      137             40             35      168  43.1   \n",
      "..           ...      ...            ...            ...      ...   ...   \n",
      "763           10      101             76             48      180  32.9   \n",
      "764            2      122             70             27        0  36.8   \n",
      "765            5      121             72             23      112  26.2   \n",
      "766            1      126             60              0        0  30.1   \n",
      "767            1       93             70             31        0  30.4   \n",
      "\n",
      "     DiabetesPedigreeFunction  Age  Outcome  \n",
      "0                       0.627   50        1  \n",
      "1                       0.351   31        0  \n",
      "2                       0.672   32        1  \n",
      "3                       0.167   21        0  \n",
      "4                       2.288   33        1  \n",
      "..                        ...  ...      ...  \n",
      "763                     0.171   63        0  \n",
      "764                     0.340   27        0  \n",
      "765                     0.245   30        0  \n",
      "766                     0.349   47        1  \n",
      "767                     0.315   23        0  \n",
      "\n",
      "[768 rows x 9 columns]>\n"
     ]
    }
   ],
   "source": [
    "import pandas as pd\n",
    "df = pd.read_csv(\"diabetes.csv\",delimiter=\",\")\n",
    "print(df.head)\n",
    " \n"
   ]
  },
  {
   "cell_type": "code",
   "execution_count": null,
   "id": "1e57d321-5b45-4e29-bddd-d33d26793900",
   "metadata": {},
   "outputs": [],
   "source": []
  },
  {
   "cell_type": "code",
   "execution_count": null,
   "id": "fc955a65-c282-4d0b-9c87-c98a2714cfb3",
   "metadata": {},
   "outputs": [],
   "source": []
  },
  {
   "cell_type": "markdown",
   "id": "c19c386b-1264-4365-a5ae-7d85a09bde33",
   "metadata": {},
   "source": [
    "#TYPES OF JOINS IN PANDAS"
   ]
  },
  {
   "cell_type": "code",
   "execution_count": 10,
   "id": "0be0d1ab-43a1-4a2f-8b7b-0eaa333a6e37",
   "metadata": {},
   "outputs": [
    {
     "data": {
      "text/html": [
       "<div>\n",
       "<style scoped>\n",
       "    .dataframe tbody tr th:only-of-type {\n",
       "        vertical-align: middle;\n",
       "    }\n",
       "\n",
       "    .dataframe tbody tr th {\n",
       "        vertical-align: top;\n",
       "    }\n",
       "\n",
       "    .dataframe thead th {\n",
       "        text-align: right;\n",
       "    }\n",
       "</style>\n",
       "<table border=\"1\" class=\"dataframe\">\n",
       "  <thead>\n",
       "    <tr style=\"text-align: right;\">\n",
       "      <th></th>\n",
       "      <th>id</th>\n",
       "      <th>val1</th>\n",
       "    </tr>\n",
       "  </thead>\n",
       "  <tbody>\n",
       "    <tr>\n",
       "      <th>0</th>\n",
       "      <td>1</td>\n",
       "      <td>a</td>\n",
       "    </tr>\n",
       "    <tr>\n",
       "      <th>1</th>\n",
       "      <td>2</td>\n",
       "      <td>b</td>\n",
       "    </tr>\n",
       "    <tr>\n",
       "      <th>2</th>\n",
       "      <td>10</td>\n",
       "      <td>c</td>\n",
       "    </tr>\n",
       "    <tr>\n",
       "      <th>3</th>\n",
       "      <td>12</td>\n",
       "      <td>d</td>\n",
       "    </tr>\n",
       "  </tbody>\n",
       "</table>\n",
       "</div>"
      ],
      "text/plain": [
       "   id val1\n",
       "0   1    a\n",
       "1   2    b\n",
       "2  10    c\n",
       "3  12    d"
      ]
     },
     "execution_count": 10,
     "metadata": {},
     "output_type": "execute_result"
    }
   ],
   "source": [
    "import pandas as pd\n",
    "a = pd.DataFrame()\n",
    "d = {'id': [1, 2, 10, 12], \n",
    "     'val1': ['a', 'b', 'c', 'd']} \n",
    "a = pd.DataFrame(d)\n",
    "a"
   ]
  },
  {
   "cell_type": "code",
   "execution_count": 11,
   "id": "7b5c37e9-1d3b-4800-9b19-418b47f21b8d",
   "metadata": {},
   "outputs": [
    {
     "data": {
      "text/html": [
       "<div>\n",
       "<style scoped>\n",
       "    .dataframe tbody tr th:only-of-type {\n",
       "        vertical-align: middle;\n",
       "    }\n",
       "\n",
       "    .dataframe tbody tr th {\n",
       "        vertical-align: top;\n",
       "    }\n",
       "\n",
       "    .dataframe thead th {\n",
       "        text-align: right;\n",
       "    }\n",
       "</style>\n",
       "<table border=\"1\" class=\"dataframe\">\n",
       "  <thead>\n",
       "    <tr style=\"text-align: right;\">\n",
       "      <th></th>\n",
       "      <th>id</th>\n",
       "      <th>val1</th>\n",
       "    </tr>\n",
       "  </thead>\n",
       "  <tbody>\n",
       "    <tr>\n",
       "      <th>0</th>\n",
       "      <td>1</td>\n",
       "      <td>p</td>\n",
       "    </tr>\n",
       "    <tr>\n",
       "      <th>1</th>\n",
       "      <td>2</td>\n",
       "      <td>q</td>\n",
       "    </tr>\n",
       "    <tr>\n",
       "      <th>2</th>\n",
       "      <td>9</td>\n",
       "      <td>r</td>\n",
       "    </tr>\n",
       "    <tr>\n",
       "      <th>3</th>\n",
       "      <td>8</td>\n",
       "      <td>s</td>\n",
       "    </tr>\n",
       "  </tbody>\n",
       "</table>\n",
       "</div>"
      ],
      "text/plain": [
       "   id val1\n",
       "0   1    p\n",
       "1   2    q\n",
       "2   9    r\n",
       "3   8    s"
      ]
     },
     "execution_count": 11,
     "metadata": {},
     "output_type": "execute_result"
    }
   ],
   "source": [
    "import pandas as pd\n",
    " b = pd.DataFrame()\n",
    "d = {'id': [1, 2, 9, 8],\n",
    "     'val1': ['p', 'q', 'r', 's']}\n",
    "b = pd.DataFrame(d)\n",
    "b"
   ]
  },
  {
   "cell_type": "code",
   "execution_count": 12,
   "id": "0a4fb4ba-71f2-42d9-ac6f-390bc6432650",
   "metadata": {},
   "outputs": [],
   "source": [
    "#INNER JOIN "
   ]
  },
  {
   "cell_type": "code",
   "execution_count": 13,
   "id": "6aa06415-f4f8-4c0c-8389-b93144f13dfc",
   "metadata": {},
   "outputs": [
    {
     "data": {
      "text/html": [
       "<div>\n",
       "<style scoped>\n",
       "    .dataframe tbody tr th:only-of-type {\n",
       "        vertical-align: middle;\n",
       "    }\n",
       "\n",
       "    .dataframe tbody tr th {\n",
       "        vertical-align: top;\n",
       "    }\n",
       "\n",
       "    .dataframe thead th {\n",
       "        text-align: right;\n",
       "    }\n",
       "</style>\n",
       "<table border=\"1\" class=\"dataframe\">\n",
       "  <thead>\n",
       "    <tr style=\"text-align: right;\">\n",
       "      <th></th>\n",
       "      <th>id</th>\n",
       "      <th>val1_x</th>\n",
       "      <th>val1_y</th>\n",
       "    </tr>\n",
       "  </thead>\n",
       "  <tbody>\n",
       "    <tr>\n",
       "      <th>0</th>\n",
       "      <td>1</td>\n",
       "      <td>a</td>\n",
       "      <td>p</td>\n",
       "    </tr>\n",
       "    <tr>\n",
       "      <th>1</th>\n",
       "      <td>2</td>\n",
       "      <td>b</td>\n",
       "      <td>q</td>\n",
       "    </tr>\n",
       "  </tbody>\n",
       "</table>\n",
       "</div>"
      ],
      "text/plain": [
       "   id val1_x val1_y\n",
       "0   1      a      p\n",
       "1   2      b      q"
      ]
     },
     "execution_count": 13,
     "metadata": {},
     "output_type": "execute_result"
    }
   ],
   "source": [
    "import pandas as pd\n",
    "a = pd.DataFrame()\n",
    "d = {'id': [1, 2, 10, 12],\n",
    "     'val1': ['a', 'b', 'c', 'd']}\n",
    " \n",
    "a = pd.DataFrame(d)\n",
    "b = pd.DataFrame()\n",
    " \n",
    "d = {'id': [1, 2, 9, 8],\n",
    "     'val1': ['p', 'q', 'r', 's']}\n",
    "b = pd.DataFrame(d)\n",
    " \n",
    "# inner join\n",
    "df = pd.merge(a, b, on='id', how='inner')\n",
    "df"
   ]
  },
  {
   "cell_type": "code",
   "execution_count": 14,
   "id": "6bd0dca4-7a3f-4b08-89d1-fcdc0d238745",
   "metadata": {},
   "outputs": [],
   "source": [
    "#LEFT JOIN"
   ]
  },
  {
   "cell_type": "code",
   "execution_count": 15,
   "id": "28b4caa3-8962-49f3-9c97-8889d901f6ca",
   "metadata": {},
   "outputs": [
    {
     "data": {
      "text/html": [
       "<div>\n",
       "<style scoped>\n",
       "    .dataframe tbody tr th:only-of-type {\n",
       "        vertical-align: middle;\n",
       "    }\n",
       "\n",
       "    .dataframe tbody tr th {\n",
       "        vertical-align: top;\n",
       "    }\n",
       "\n",
       "    .dataframe thead th {\n",
       "        text-align: right;\n",
       "    }\n",
       "</style>\n",
       "<table border=\"1\" class=\"dataframe\">\n",
       "  <thead>\n",
       "    <tr style=\"text-align: right;\">\n",
       "      <th></th>\n",
       "      <th>id</th>\n",
       "      <th>val1_x</th>\n",
       "      <th>val1_y</th>\n",
       "    </tr>\n",
       "  </thead>\n",
       "  <tbody>\n",
       "    <tr>\n",
       "      <th>0</th>\n",
       "      <td>1</td>\n",
       "      <td>a</td>\n",
       "      <td>p</td>\n",
       "    </tr>\n",
       "    <tr>\n",
       "      <th>1</th>\n",
       "      <td>2</td>\n",
       "      <td>b</td>\n",
       "      <td>q</td>\n",
       "    </tr>\n",
       "    <tr>\n",
       "      <th>2</th>\n",
       "      <td>10</td>\n",
       "      <td>c</td>\n",
       "      <td>NaN</td>\n",
       "    </tr>\n",
       "    <tr>\n",
       "      <th>3</th>\n",
       "      <td>12</td>\n",
       "      <td>d</td>\n",
       "      <td>NaN</td>\n",
       "    </tr>\n",
       "  </tbody>\n",
       "</table>\n",
       "</div>"
      ],
      "text/plain": [
       "   id val1_x val1_y\n",
       "0   1      a      p\n",
       "1   2      b      q\n",
       "2  10      c    NaN\n",
       "3  12      d    NaN"
      ]
     },
     "execution_count": 15,
     "metadata": {},
     "output_type": "execute_result"
    }
   ],
   "source": [
    "import pandas as pd\n",
    "\n",
    "a = pd.DataFrame()\n",
    "d = {'id': [1, 2, 10, 12],\n",
    "     'val1': ['a', 'b', 'c', 'd']}\n",
    " \n",
    "a = pd.DataFrame(d)\n",
    "b = pd.DataFrame()\n",
    "d = {'id': [1, 2, 9, 8],\n",
    "     'val1': ['p', 'q', 'r', 's']}\n",
    "b = pd.DataFrame(d)\n",
    " \n",
    "# left outer join\n",
    "df = pd.merge(a, b, on='id', how='left')\n",
    "df"
   ]
  },
  {
   "cell_type": "code",
   "execution_count": 16,
   "id": "698bd330-c61a-4e2e-8016-54870a7098f0",
   "metadata": {},
   "outputs": [],
   "source": [
    "#RIGHT JOIN\n"
   ]
  },
  {
   "cell_type": "code",
   "execution_count": 22,
   "id": "3cc9f3e4-05ad-4bde-bd84-807a7a7e6759",
   "metadata": {},
   "outputs": [
    {
     "data": {
      "text/html": [
       "<div>\n",
       "<style scoped>\n",
       "    .dataframe tbody tr th:only-of-type {\n",
       "        vertical-align: middle;\n",
       "    }\n",
       "\n",
       "    .dataframe tbody tr th {\n",
       "        vertical-align: top;\n",
       "    }\n",
       "\n",
       "    .dataframe thead th {\n",
       "        text-align: right;\n",
       "    }\n",
       "</style>\n",
       "<table border=\"1\" class=\"dataframe\">\n",
       "  <thead>\n",
       "    <tr style=\"text-align: right;\">\n",
       "      <th></th>\n",
       "      <th>id</th>\n",
       "      <th>val1_x</th>\n",
       "      <th>val1_y</th>\n",
       "    </tr>\n",
       "  </thead>\n",
       "  <tbody>\n",
       "    <tr>\n",
       "      <th>0</th>\n",
       "      <td>1</td>\n",
       "      <td>a</td>\n",
       "      <td>p</td>\n",
       "    </tr>\n",
       "    <tr>\n",
       "      <th>1</th>\n",
       "      <td>2</td>\n",
       "      <td>b</td>\n",
       "      <td>q</td>\n",
       "    </tr>\n",
       "    <tr>\n",
       "      <th>2</th>\n",
       "      <td>9</td>\n",
       "      <td>NaN</td>\n",
       "      <td>r</td>\n",
       "    </tr>\n",
       "    <tr>\n",
       "      <th>3</th>\n",
       "      <td>8</td>\n",
       "      <td>NaN</td>\n",
       "      <td>s</td>\n",
       "    </tr>\n",
       "  </tbody>\n",
       "</table>\n",
       "</div>"
      ],
      "text/plain": [
       "   id val1_x val1_y\n",
       "0   1      a      p\n",
       "1   2      b      q\n",
       "2   9    NaN      r\n",
       "3   8    NaN      s"
      ]
     },
     "execution_count": 22,
     "metadata": {},
     "output_type": "execute_result"
    }
   ],
   "source": [
    "import pandas as pd\n",
    "\n",
    "a = pd.DataFrame()\n",
    "d = {'id': [1, 2, 10, 12],\n",
    "     'val1': ['a', 'b', 'c', 'd']}\n",
    " \n",
    "a = pd.DataFrame(d)\n",
    " \n",
    "b = pd.DataFrame()\n",
    "d = {'id': [1, 2, 9, 8],\n",
    "     'val1': ['p', 'q', 'r', 's']}\n",
    "b = pd.DataFrame(d)\n",
    " \n",
    "# right outer join\n",
    "df = pd.merge(a, b, on='id', how='right')\n",
    "df"
   ]
  },
  {
   "cell_type": "code",
   "execution_count": 18,
   "id": "bc9304e5-b951-471a-a2a9-453a2778fd76",
   "metadata": {},
   "outputs": [],
   "source": [
    "#FULL OUTER JOIN"
   ]
  },
  {
   "cell_type": "code",
   "execution_count": 24,
   "id": "ed5256be-f8fe-4546-9078-7a1bd0830df4",
   "metadata": {},
   "outputs": [
    {
     "data": {
      "text/html": [
       "<div>\n",
       "<style scoped>\n",
       "    .dataframe tbody tr th:only-of-type {\n",
       "        vertical-align: middle;\n",
       "    }\n",
       "\n",
       "    .dataframe tbody tr th {\n",
       "        vertical-align: top;\n",
       "    }\n",
       "\n",
       "    .dataframe thead th {\n",
       "        text-align: right;\n",
       "    }\n",
       "</style>\n",
       "<table border=\"1\" class=\"dataframe\">\n",
       "  <thead>\n",
       "    <tr style=\"text-align: right;\">\n",
       "      <th></th>\n",
       "      <th>id</th>\n",
       "      <th>val1_x</th>\n",
       "      <th>val1_y</th>\n",
       "    </tr>\n",
       "  </thead>\n",
       "  <tbody>\n",
       "    <tr>\n",
       "      <th>0</th>\n",
       "      <td>1</td>\n",
       "      <td>a</td>\n",
       "      <td>p</td>\n",
       "    </tr>\n",
       "    <tr>\n",
       "      <th>1</th>\n",
       "      <td>2</td>\n",
       "      <td>b</td>\n",
       "      <td>q</td>\n",
       "    </tr>\n",
       "    <tr>\n",
       "      <th>2</th>\n",
       "      <td>8</td>\n",
       "      <td>NaN</td>\n",
       "      <td>s</td>\n",
       "    </tr>\n",
       "    <tr>\n",
       "      <th>3</th>\n",
       "      <td>9</td>\n",
       "      <td>NaN</td>\n",
       "      <td>r</td>\n",
       "    </tr>\n",
       "    <tr>\n",
       "      <th>4</th>\n",
       "      <td>10</td>\n",
       "      <td>c</td>\n",
       "      <td>NaN</td>\n",
       "    </tr>\n",
       "    <tr>\n",
       "      <th>5</th>\n",
       "      <td>12</td>\n",
       "      <td>d</td>\n",
       "      <td>NaN</td>\n",
       "    </tr>\n",
       "  </tbody>\n",
       "</table>\n",
       "</div>"
      ],
      "text/plain": [
       "   id val1_x val1_y\n",
       "0   1      a      p\n",
       "1   2      b      q\n",
       "2   8    NaN      s\n",
       "3   9    NaN      r\n",
       "4  10      c    NaN\n",
       "5  12      d    NaN"
      ]
     },
     "execution_count": 24,
     "metadata": {},
     "output_type": "execute_result"
    }
   ],
   "source": [
    "import pandas as pd\n",
    "\n",
    "a = pd.DataFrame()\n",
    "d = {'id': [1, 2, 10, 12],\n",
    "\t'val1': ['a', 'b', 'c', 'd']}\n",
    "\n",
    "a = pd.DataFrame(d)\n",
    "\n",
    "# Creating dataframe b\n",
    "b = pd.DataFrame()\n",
    "d = {'id': [1, 2, 9, 8],\n",
    "\t'val1': ['p', 'q', 'r', 's']}\n",
    "b = pd.DataFrame(d)\n",
    "\n",
    "# full outer join\n",
    "df = pd.merge(a, b, on='id', how='outer')\n",
    "df\n"
   ]
  },
  {
   "cell_type": "code",
   "execution_count": 20,
   "id": "c5ccebd5-78e0-414a-8aa5-5a77cc832d88",
   "metadata": {},
   "outputs": [],
   "source": [
    "#INDEX JOIN"
   ]
  },
  {
   "cell_type": "code",
   "execution_count": 21,
   "id": "9fa03af2-ff75-4326-a423-212815af62c2",
   "metadata": {},
   "outputs": [
    {
     "data": {
      "text/html": [
       "<div>\n",
       "<style scoped>\n",
       "    .dataframe tbody tr th:only-of-type {\n",
       "        vertical-align: middle;\n",
       "    }\n",
       "\n",
       "    .dataframe tbody tr th {\n",
       "        vertical-align: top;\n",
       "    }\n",
       "\n",
       "    .dataframe thead th {\n",
       "        text-align: right;\n",
       "    }\n",
       "</style>\n",
       "<table border=\"1\" class=\"dataframe\">\n",
       "  <thead>\n",
       "    <tr style=\"text-align: right;\">\n",
       "      <th></th>\n",
       "      <th>id_x</th>\n",
       "      <th>val1_x</th>\n",
       "      <th>id_y</th>\n",
       "      <th>val1_y</th>\n",
       "    </tr>\n",
       "  </thead>\n",
       "  <tbody>\n",
       "    <tr>\n",
       "      <th>0</th>\n",
       "      <td>1</td>\n",
       "      <td>a</td>\n",
       "      <td>1</td>\n",
       "      <td>p</td>\n",
       "    </tr>\n",
       "    <tr>\n",
       "      <th>1</th>\n",
       "      <td>2</td>\n",
       "      <td>b</td>\n",
       "      <td>2</td>\n",
       "      <td>q</td>\n",
       "    </tr>\n",
       "    <tr>\n",
       "      <th>2</th>\n",
       "      <td>10</td>\n",
       "      <td>c</td>\n",
       "      <td>9</td>\n",
       "      <td>r</td>\n",
       "    </tr>\n",
       "    <tr>\n",
       "      <th>3</th>\n",
       "      <td>12</td>\n",
       "      <td>d</td>\n",
       "      <td>8</td>\n",
       "      <td>s</td>\n",
       "    </tr>\n",
       "  </tbody>\n",
       "</table>\n",
       "</div>"
      ],
      "text/plain": [
       "   id_x val1_x  id_y val1_y\n",
       "0     1      a     1      p\n",
       "1     2      b     2      q\n",
       "2    10      c     9      r\n",
       "3    12      d     8      s"
      ]
     },
     "execution_count": 21,
     "metadata": {},
     "output_type": "execute_result"
    }
   ],
   "source": [
    "import pandas as pd\n",
    "\n",
    "a = pd.DataFrame()\n",
    "\n",
    "d = {'id': [1, 2, 10, 12],\n",
    "\t'val1': ['a', 'b', 'c', 'd']}\n",
    "\n",
    "a = pd.DataFrame(d)\n",
    "\n",
    "b = pd.DataFrame()\n",
    "d = {'id': [1, 2, 9, 8],\n",
    "\t'val1': ['p', 'q', 'r', 's']}\n",
    "b = pd.DataFrame(d)\n",
    "\n",
    "# index join\n",
    "df = pd.merge(a, b, left_index=True, right_index=True)\n",
    "df\n"
   ]
  },
  {
   "cell_type": "code",
   "execution_count": null,
   "id": "451f0fa2-e827-47c1-b5b8-571c63f0dc0e",
   "metadata": {},
   "outputs": [],
   "source": []
  }
 ],
 "metadata": {
  "kernelspec": {
   "display_name": "Python 3 (ipykernel)",
   "language": "python",
   "name": "python3"
  },
  "language_info": {
   "codemirror_mode": {
    "name": "ipython",
    "version": 3
   },
   "file_extension": ".py",
   "mimetype": "text/x-python",
   "name": "python",
   "nbconvert_exporter": "python",
   "pygments_lexer": "ipython3",
   "version": "3.11.5"
  }
 },
 "nbformat": 4,
 "nbformat_minor": 5
}
