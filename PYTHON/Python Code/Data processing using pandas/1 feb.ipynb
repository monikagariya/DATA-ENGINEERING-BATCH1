{
 "cells": [
  {
   "cell_type": "code",
   "execution_count": 1,
   "id": "ff93d112-3875-4cf4-b3ac-b474f9266261",
   "metadata": {},
   "outputs": [
    {
     "name": "stdout",
     "output_type": "stream",
     "text": [
      "Letters are: {'s'}\n",
      "Letters are: {'e', 's'}\n",
      "Letters are: {'e', 's'}\n"
     ]
    }
   ],
   "source": [
    "#SET IN PYTHON\n",
    "PYT = set()\n",
    "PYT.add('s')\n",
    "print(\"Letters are:\", PYT)\n",
    " \n",
    "# adding 'e' again\n",
    "PYT.add('e')\n",
    "print(\"Letters are:\", PYT)\n",
    "# adding 's' again\n",
    "PYT.add('s')\n",
    "print(\"Letters are:\", PYT)"
   ]
  },
  {
   "cell_type": "markdown",
   "id": "488adf5f-38e3-4de5-91f9-54981529bf3e",
   "metadata": {},
   "source": [
    "#Python set methods"
   ]
  },
  {
   "cell_type": "code",
   "execution_count": 2,
   "id": "1a14c819-5237-4398-9e0d-25707acea9e0",
   "metadata": {},
   "outputs": [
    {
     "name": "stdout",
     "output_type": "stream",
     "text": [
      "Set after updating: {'e', 'g', 's', 'k', 'f'}\n",
      "\n",
      "Set after updating: {'e', 's', 'k', 'f'}\n",
      "\n",
      "Set after updating: {'s', 'k', 'f'}\n",
      "\n",
      "Popped element s\n",
      "Set after updating: {'k', 'f'}\n",
      "\n",
      "Set after updating: set()\n"
     ]
    }
   ],
   "source": [
    "# set of letters\n",
    "s = {'g', 'e', 'k', 's'}\n",
    "\n",
    "# adding 's'\n",
    "s.add('f')\n",
    "print('Set after updating:', s)\n",
    "\n",
    "# Discarding element from the set\n",
    "s.discard('g')\n",
    "print('\\nSet after updating:', s)\n",
    "\n",
    "# Removing element from the set\n",
    "s.remove('e')\n",
    "print('\\nSet after updating:', s)\n",
    "\n",
    "# Popping elements from the set\n",
    "print('\\nPopped element', s.pop())\n",
    "print('Set after updating:', s)\n",
    "s.clear()\n",
    "print('\\nSet after updating:', s)\n"
   ]
  },
  {
   "cell_type": "markdown",
   "id": "835f86eb-eabf-4121-a622-99e79212f4af",
   "metadata": {},
   "source": [
    "#Get unique values from a list"
   ]
  },
  {
   "cell_type": "code",
   "execution_count": 3,
   "id": "acdfb418-6fd4-4801-845b-1445f7d41a8a",
   "metadata": {},
   "outputs": [
    {
     "name": "stdout",
     "output_type": "stream",
     "text": [
      "the unique values from 1st list is\n",
      "10\n",
      "20\n",
      "30\n",
      "40\n",
      "\n",
      "the unique values from 2nd list is\n",
      "1\n",
      "2\n",
      "3\n",
      "4\n",
      "5\n"
     ]
    }
   ],
   "source": [
    "# function to get unique values\n",
    "def unique(list1):\n",
    "    # initialize a null list\n",
    "    unique_list = []\n",
    "    # traverse for all elements\n",
    "    for x in list1:\n",
    "        # check if exists in unique_list or not\n",
    "        if x not in unique_list:\n",
    "            unique_list.append(x)\n",
    "    # print list\n",
    "    for x in unique_list:\n",
    "        print (x),\n",
    "list1 = [10, 20, 10, 30, 40, 40]\n",
    "print(\"the unique values from 1st list is\")\n",
    "unique(list1)\n",
    " \n",
    " \n",
    "list2 = [1, 2, 1, 1, 3, 4, 3, 3, 5]\n",
    "print(\"\\nthe unique values from 2nd list is\")\n",
    "unique(list2)\n"
   ]
  },
  {
   "cell_type": "markdown",
   "id": "ccb8e76c-34d2-46ac-b08f-47562ca05fb5",
   "metadata": {},
   "source": [
    "#Get Unique Values from a List Using Set Method"
   ]
  },
  {
   "cell_type": "code",
   "execution_count": 16,
   "id": "368de486-93b8-4f13-872b-d24902fa550d",
   "metadata": {},
   "outputs": [
    {
     "name": "stdout",
     "output_type": "stream",
     "text": [
      "the unique values from 1st list is\n",
      "40\n",
      "10\n",
      "20\n",
      "30\n",
      "\n",
      "the unique values from 2nd list is\n",
      "1\n",
      "2\n",
      "3\n",
      "4\n",
      "5\n"
     ]
    }
   ],
   "source": [
    "def unique(list1):\n",
    " \n",
    "    # insert the list to the set\n",
    "    list_set = set(list1)\n",
    "    # convert the set to the list\n",
    "    unique_list = (list(list_set))\n",
    "    for x in unique_list:\n",
    "        print (x),\n",
    " \n",
    "list1 = [10, 20, 10, 30, 40, 40]\n",
    "print(\"the unique values from 1st list is\")\n",
    "unique(list1)\n",
    " \n",
    " \n",
    "list2 = [1, 2, 1, 1, 3, 4, 3, 3, 5]\n",
    "print(\"\\nthe unique values from 2nd list is\")\n",
    "unique(list2)\n",
    "\n"
   ]
  },
  {
   "cell_type": "markdown",
   "id": "68581222-219f-4cbc-9af3-e06cc6f2e345",
   "metadata": {},
   "source": [
    "#Get unique value by reduce()"
   ]
  },
  {
   "cell_type": "code",
   "execution_count": 2,
   "id": "a19debce-95eb-4970-a496-611138774045",
   "metadata": {},
   "outputs": [
    {
     "name": "stdout",
     "output_type": "stream",
     "text": [
      "the unique values from 1st list is\n",
      "[10, 20, 30, 40]\n",
      "\n",
      "the unique values from 2nd list is\n",
      "[1, 2, 3, 4, 5]\n"
     ]
    }
   ],
   "source": [
    "from functools import reduce\n",
    " \n",
    "def unique(list1):\n",
    " \n",
    "    # Print directly by using * symbol\n",
    "    ans = reduce(lambda re, x: re+[x] if x not in re else re, list1, [])\n",
    "    print(ans)\n",
    " \n",
    "\n",
    "list1 = [10, 20, 10, 30, 40, 40]\n",
    "print(\"the unique values from 1st list is\")\n",
    "unique(list1)\n",
    " \n",
    " \n",
    "list2 = [1, 2, 1, 1, 3, 4, 3, 3, 5]\n",
    "print(\"\\nthe unique values from 2nd list is\")\n",
    "unique(list2)\n"
   ]
  },
  {
   "cell_type": "markdown",
   "id": "55956499-b3a9-46cd-92d9-f94e75b0fdfb",
   "metadata": {},
   "source": [
    "#Get Unique Values From a List in Python Using Operator.countOf() "
   ]
  },
  {
   "cell_type": "code",
   "execution_count": 3,
   "id": "df448cc5-9908-40a4-ad56-ee43e7a71168",
   "metadata": {},
   "outputs": [
    {
     "name": "stdout",
     "output_type": "stream",
     "text": [
      "the unique values from 1st list is\n",
      "10\n",
      "20\n",
      "30\n",
      "40\n",
      "\n",
      "the unique values from 2nd list is\n",
      "1\n",
      "2\n",
      "3\n",
      "4\n",
      "5\n"
     ]
    }
   ],
   "source": [
    "\n",
    "import operator as op\n",
    "# function to get unique values\n",
    "def unique(list1):\n",
    " \n",
    "    # initialize a null list\n",
    "    unique_list = []\n",
    " \n",
    "    # traverse for all elements\n",
    "    for x in list1:\n",
    "        # check if exists in unique_list or not\n",
    "        if op.countOf(unique_list, x) == 0:\n",
    "            unique_list.append(x)\n",
    "    # print list\n",
    "    for x in unique_list:\n",
    "        print(x)\n",
    "list1 = [10, 20, 10, 30, 40, 40]\n",
    "print(\"the unique values from 1st list is\")\n",
    "unique(list1)\n",
    " \n",
    "list2 = [1, 2, 1, 1, 3, 4, 3, 3, 5]\n",
    "print(\"\\nthe unique values from 2nd list is\")\n",
    "unique(list2)\n",
    "\n"
   ]
  },
  {
   "cell_type": "markdown",
   "id": "109a0347-c4de-4c88-8223-8c2ba32df939",
   "metadata": {},
   "source": [
    "#Get Unique Values From a List in Python Using pandas"
   ]
  },
  {
   "cell_type": "code",
   "execution_count": 19,
   "id": "0a376316-7eff-4441-858e-377e73d28060",
   "metadata": {},
   "outputs": [
    {
     "name": "stdout",
     "output_type": "stream",
     "text": [
      "the unique values from 1st list is\n",
      "10\n",
      "20\n",
      "30\n",
      "40\n",
      "\n",
      "the unique values from 2nd list is\n",
      "1\n",
      "2\n",
      "3\n",
      "4\n",
      "5\n"
     ]
    }
   ],
   "source": [
    "import pandas as pd\n",
    " \n",
    "# function to get unique values\n",
    "def unique(list1):\n",
    "    unique_list = pd.Series(list1).drop_duplicates().tolist()\n",
    "    for x in unique_list:\n",
    "        print(x)\n",
    "list1 = [10, 20, 10, 30, 40, 40]\n",
    "print(\"the unique values from 1st list is\")\n",
    "unique(list1)\n",
    " \n",
    "list2 = [1, 2, 1, 1, 3, 4, 3, 3, 5]\n",
    "print(\"\\nthe unique values from 2nd list is\")\n",
    "unique(list2)\n"
   ]
  },
  {
   "cell_type": "markdown",
   "id": "ea0728c3-d305-4440-b7af-a0bc1206f69b",
   "metadata": {},
   "source": [
    "#Get Unique Values From a List Using numpy.unique\n"
   ]
  },
  {
   "cell_type": "code",
   "execution_count": 20,
   "id": "3ea9c46e-e070-43d8-8735-1bbaf4cd5ab8",
   "metadata": {},
   "outputs": [
    {
     "name": "stdout",
     "output_type": "stream",
     "text": [
      "the unique values from 1st list is\n",
      "[10 20 30 40]\n",
      "\n",
      "the unique values from 2nd list is\n",
      "[1 2 3 4 5]\n"
     ]
    }
   ],
   "source": [
    "import numpy as np\n",
    " \n",
    "def unique(list1):\n",
    "    x = np.array(list1)\n",
    "    print(np.unique(x))\n",
    " \n",
    "list1 = [10, 20, 10, 30, 40, 40]\n",
    "print(\"the unique values from 1st list is\")\n",
    "unique(list1)\n",
    "  \n",
    "list2 = [1, 2, 1, 1, 3, 4, 3, 3, 5]\n",
    "print(\"\\nthe unique values from 2nd list is\")\n",
    "unique(list2)\n"
   ]
  },
  {
   "cell_type": "markdown",
   "id": "93b603a4-9b4b-4c3b-81bc-9b28490a5fa0",
   "metadata": {},
   "source": [
    "#Get Unique Values From a List in Python Using collections.Counter()"
   ]
  },
  {
   "cell_type": "code",
   "execution_count": 21,
   "id": "429dd3a3-4a20-4ed1-8567-5054a14631e8",
   "metadata": {},
   "outputs": [
    {
     "name": "stdout",
     "output_type": "stream",
     "text": [
      "the unique values from 1st list is\n",
      "10 20 30 40\n",
      "\n",
      "the unique values from 2nd list is\n",
      "1 2 3 4 5\n"
     ]
    }
   ],
   "source": [
    "from collections import Counter\n",
    " \n",
    "# Function to get unique values\n",
    "def unique(list1):\n",
    "    print(*Counter(list1))\n",
    "\n",
    "list1 = [10, 20, 10, 30, 40, 40]\n",
    "print(\"the unique values from 1st list is\")\n",
    "unique(list1)\n",
    " \n",
    " \n",
    "list2 = [1, 2, 1, 1, 3, 4, 3, 3, 5]\n",
    "print(\"\\nthe unique values from 2nd list is\")\n",
    "unique(list2)\n"
   ]
  },
  {
   "cell_type": "markdown",
   "id": "ee094023-a81c-4134-b3cd-4a70ec07e1bf",
   "metadata": {},
   "source": [
    "\n",
    "#Get Unique Values From a List Using dict.fromkeys()\n"
   ]
  },
  {
   "cell_type": "code",
   "execution_count": 22,
   "id": "c26d9af8-80a8-49b6-8029-a43b10d024db",
   "metadata": {},
   "outputs": [
    {
     "name": "stdout",
     "output_type": "stream",
     "text": [
      "[10, 20, 30, 40]\n",
      "[1, 2, 3, 4, 5]\n"
     ]
    }
   ],
   "source": [
    "list1 = [10, 20, 10, 30, 40, 40]\n",
    "list2 = [1, 2, 1, 1, 3, 4, 3, 3, 5]\n",
    " \n",
    "# storing the result of the fromkeys()\n",
    "# operation and converting it into list\n",
    "unique_list_1 = list(dict.fromkeys(list1))\n",
    " \n",
    "unique_list_2 = list(dict.fromkeys(list2))\n",
    " \n",
    "print(unique_list_1,unique_list_2,sep=\"\\n\")"
   ]
  },
  {
   "cell_type": "code",
   "execution_count": null,
   "id": "b4ef7a29-6dac-4fec-9f88-b0a1ec60cbf0",
   "metadata": {},
   "outputs": [],
   "source": []
  },
  {
   "cell_type": "markdown",
   "id": "e445e6b4-5411-4951-901f-c7978b4dacd0",
   "metadata": {},
   "source": [
    "#sort python list using key in python"
   ]
  },
  {
   "cell_type": "code",
   "execution_count": 25,
   "id": "fdb9b3b0-b6bf-4807-b997-19476f3b1e5f",
   "metadata": {},
   "outputs": [
    {
     "name": "stdout",
     "output_type": "stream",
     "text": [
      "[1, 3, 4, 5]\n"
     ]
    }
   ],
   "source": [
    "a = [5, 1, 4, 3]\n",
    "print(sorted(a))"
   ]
  },
  {
   "cell_type": "code",
   "execution_count": 27,
   "id": "d8fc85f2-c22c-4a77-8d32-32cdb860e732",
   "metadata": {},
   "outputs": [
    {
     "name": "stdout",
     "output_type": "stream",
     "text": [
      "['BB', 'CC', 'aa', 'zz']\n",
      "['zz', 'aa', 'CC', 'BB']\n"
     ]
    }
   ],
   "source": [
    "strs = ['aa', 'BB', 'zz', 'CC']\n",
    "print(sorted(strs))  \n",
    "print(sorted(strs, reverse=True)) "
   ]
  },
  {
   "cell_type": "code",
   "execution_count": 35,
   "id": "bcf336e9-41f5-455d-a393-d6970899d007",
   "metadata": {},
   "outputs": [
    {
     "name": "stdout",
     "output_type": "stream",
     "text": [
      "3\n",
      "hi\n",
      "bye\n"
     ]
    }
   ],
   "source": [
    "tuple = (1, 2, 'hi')\n",
    "print(len(tuple))  ## 3\n",
    "print(tuple[2])    ## hi\n",
    "tuple = (1, 2, 'bye')  ## this works\n",
    "print(tuple[2])\n",
    "\n",
    "\n"
   ]
  },
  {
   "cell_type": "code",
   "execution_count": 24,
   "id": "62273ed2-fec4-42fa-9709-292cf1207bd9",
   "metadata": {},
   "outputs": [
    {
     "name": "stdout",
     "output_type": "stream",
     "text": [
      "['d', 'bb', 'ccc', 'aaaa']\n"
     ]
    }
   ],
   "source": [
    "strs = ['ccc', 'aaaa', 'd', 'bb']\n",
    "print(sorted(strs, key=len))  ## ['d', 'bb', 'ccc', 'aaaa']"
   ]
  },
  {
   "cell_type": "code",
   "execution_count": 39,
   "id": "86ee1481-7587-477a-a02d-93009227b151",
   "metadata": {},
   "outputs": [
    {
     "name": "stdout",
     "output_type": "stream",
     "text": [
      "[1, 2, 3, 4]\n",
      "[1, 4, 9, 16]\n"
     ]
    }
   ],
   "source": [
    "nums = [1, 2, 3, 4]\n",
    "squares = [ n * n for n in nums ]   ## [1, 4, 9, 16]\n",
    "print(nums)\n",
    "print(squares)\n",
    "\n",
    "\n"
   ]
  },
  {
   "cell_type": "code",
   "execution_count": 40,
   "id": "e4b8cbc9-9480-49c9-89e7-316e5ec0625a",
   "metadata": {},
   "outputs": [
    {
     "name": "stdout",
     "output_type": "stream",
     "text": [
      "['HELLO!!!', 'AND!!!', 'GOODBYE!!!']\n"
     ]
    }
   ],
   "source": [
    "strs = ['hello', 'and', 'goodbye']\n",
    "shouting = [ s.upper() + '!!!' for s in strs ]\n",
    "print(shouting)\n"
   ]
  },
  {
   "cell_type": "code",
   "execution_count": 42,
   "id": "1dc5e163-c717-425c-bd7f-db7b43bac120",
   "metadata": {},
   "outputs": [
    {
     "name": "stdout",
     "output_type": "stream",
     "text": [
      "[2, 1]\n"
     ]
    }
   ],
   "source": [
    "nums = [2, 8, 1, 6]\n",
    "small = [ n for n in nums if n <= 2 ] \n",
    "print(small)"
   ]
  },
  {
   "cell_type": "code",
   "execution_count": 43,
   "id": "41c39fd1-31b5-4ead-abc6-f753e11db1eb",
   "metadata": {},
   "outputs": [
    {
     "name": "stdout",
     "output_type": "stream",
     "text": [
      "['APPLE', 'BANANA']\n"
     ]
    }
   ],
   "source": [
    "fruits = ['apple', 'cherry', 'banana', 'lemon']\n",
    "afruits = [ s.upper() for s in fruits if 'a' in s ]\n",
    "print(afruits)\n"
   ]
  },
  {
   "cell_type": "code",
   "execution_count": null,
   "id": "ef2c8d97-655e-4c18-baef-19177f441724",
   "metadata": {},
   "outputs": [],
   "source": []
  },
  {
   "cell_type": "code",
   "execution_count": 16,
   "id": "165c6f50-81c8-49bd-a009-169715c78326",
   "metadata": {},
   "outputs": [],
   "source": [
    "#JSON(JAVASCRIPT OBJECT NOTATION)  JSON String to Dictionary Python"
   ]
  },
  {
   "cell_type": "code",
   "execution_count": 17,
   "id": "34e4a187-20f2-4143-8170-73145b6d12fb",
   "metadata": {},
   "outputs": [
    {
     "name": "stdout",
     "output_type": "stream",
     "text": [
      "{'id': 1, 'name': 'Monika Gariya', 'course': 'Data Engineering'}\n",
      "Monika Gariya\n",
      "Data Engineering\n"
     ]
    }
   ],
   "source": [
    "#import json module\n",
    "import json\n",
    "# Define JSON string\n",
    "jsonString = '{ \"id\": 1, \"name\": \"Monika Gariya\", \"course\": \"Data Engineering\"}'\n",
    " \n",
    "# Convert JSON String to Python\n",
    "student_details = json.loads(jsonString)\n",
    " \n",
    "# Print Dictionary\n",
    "print(student_details)\n",
    " \n",
    "# Print values using keys\n",
    "print(student_details['name'])\n",
    "print(student_details['course'])\n"
   ]
  },
  {
   "cell_type": "code",
   "execution_count": 13,
   "id": "99627f32-5955-44df-84c1-edf1588f21c9",
   "metadata": {},
   "outputs": [],
   "source": [
    "#PYTHON DICTIONARY"
   ]
  },
  {
   "cell_type": "code",
   "execution_count": 14,
   "id": "bf0a6baf-c264-4b5c-a08d-10e50e0d6858",
   "metadata": {},
   "outputs": [
    {
     "name": "stdout",
     "output_type": "stream",
     "text": [
      "{'id': 1, 'name': 'Monika Gariya', 'course': 'Data Engineering'}\n"
     ]
    }
   ],
   "source": [
    "import json\n",
    "jsonString = '{ \"id\": 1, \"name\": \"Monika Gariya\", \"course\": \"Data Engineering\"}'\n",
    "json_dict = json.loads(jsonString)\n",
    "print(json_dict)"
   ]
  },
  {
   "cell_type": "code",
   "execution_count": null,
   "id": "639a0498-6ad1-4270-8e50-b0731559c9fc",
   "metadata": {},
   "outputs": [],
   "source": [
    "\n",
    "\n"
   ]
  },
  {
   "cell_type": "code",
   "execution_count": 19,
   "id": "e8c1255f-d723-4527-a56b-b056e49c2256",
   "metadata": {},
   "outputs": [],
   "source": [
    "\n",
    "#Convert JSON String to Dictionary in Python"
   ]
  },
  {
   "cell_type": "code",
   "execution_count": 21,
   "id": "f0f1e2f2-c908-4204-8f26-1193ae210368",
   "metadata": {},
   "outputs": [
    {
     "name": "stdout",
     "output_type": "stream",
     "text": [
      "{'Name': 'Monika', 'age': 23, 'Course': 'DSA'}\n"
     ]
    }
   ],
   "source": [
    "import json\n",
    " \n",
    "# JSON string\n",
    "json_string = '{\"Name\": \"Monika\", \"age\": 23, \"Course\": \"DSA\"}'\n",
    " \n",
    "# Convert JSON string to dictionary\n",
    "json_dict = json.loads(json_string)\n",
    " \n",
    "print(json_dict)"
   ]
  },
  {
   "cell_type": "code",
   "execution_count": null,
   "id": "f0ad4cb4-e005-435a-b25a-3ef2109c9d9a",
   "metadata": {},
   "outputs": [],
   "source": [
    "\n",
    "#PYTHON PARSE JSON STRING"
   ]
  },
  {
   "cell_type": "code",
   "execution_count": 23,
   "id": "7fae0364-70af-49f6-942a-0566870f3d75",
   "metadata": {},
   "outputs": [
    {
     "name": "stdout",
     "output_type": "stream",
     "text": [
      "{'id': '09', 'name': 'Monika', 'department': 'Finance'}\n",
      "Monika\n"
     ]
    }
   ],
   "source": [
    "import json\n",
    " \n",
    "# JSON string\n",
    "employee ='{\"id\":\"09\", \"name\": \"Monika\", \"department\":\"Finance\"}'\n",
    " \n",
    "# Convert string to Python dict\n",
    "employee_dict = json.loads(employee)\n",
    "print(employee_dict)\n",
    " \n",
    "print(employee_dict['name'])\n"
   ]
  },
  {
   "cell_type": "code",
   "execution_count": 25,
   "id": "d4a22fb4-76e2-4bce-b1d8-18f60c2a660e",
   "metadata": {},
   "outputs": [],
   "source": [
    "#CONVERT PYTHON DICT TO JSON"
   ]
  },
  {
   "cell_type": "code",
   "execution_count": 26,
   "id": "765bd6e7-a886-4025-8c75-bc9a95cbdcf9",
   "metadata": {},
   "outputs": [
    {
     "name": "stdout",
     "output_type": "stream",
     "text": [
      "{\n",
      "    \"id\": \"04\",\n",
      "    \"name\": \"sunil\",\n",
      "    \"department\": \"HR\"\n",
      "}\n"
     ]
    }
   ],
   "source": [
    "import json\n",
    "  \n",
    "# Data to be written\n",
    "dictionary = {\n",
    "  \"id\": \"04\",\n",
    "  \"name\": \"sunil\",\n",
    "  \"department\": \"HR\"\n",
    "}\n",
    "  \n",
    "# Serializing json\n",
    "json_object = json.dumps(dictionary, indent = 4)\n",
    "print(json_object)\n"
   ]
  },
  {
   "cell_type": "code",
   "execution_count": null,
   "id": "d1bd6f0a-d130-4735-b9da-08b112a7df4e",
   "metadata": {},
   "outputs": [],
   "source": []
  },
  {
   "cell_type": "code",
   "execution_count": 28,
   "id": "9c83db3c-c303-4043-a9cf-3919a57591bd",
   "metadata": {},
   "outputs": [],
   "source": [
    "#Python Pretty Print JSON\n"
   ]
  },
  {
   "cell_type": "code",
   "execution_count": 29,
   "id": "d83c1caf-5e19-469e-940f-4a74d944f407",
   "metadata": {},
   "outputs": [
    {
     "name": "stdout",
     "output_type": "stream",
     "text": [
      "{\n",
      "    \"department\": \"Finance\",\n",
      "    \"id\": \"09\",\n",
      "    \"name\": \"Nitin\"\n",
      "}\n"
     ]
    }
   ],
   "source": [
    "import json\n",
    " \n",
    "# JSON string\n",
    "employee ='{\"id\":\"09\", \"name\": \"Nitin\", \"department\":\"Finance\"}'\n",
    " \n",
    "# Convert string to Python dict\n",
    "employee_dict = json.loads(employee)\n",
    " \n",
    "# Pretty Printing JSON string back\n",
    "print(json.dumps(employee_dict, indent = 4, sort_keys= True))\n"
   ]
  },
  {
   "cell_type": "code",
   "execution_count": null,
   "id": "c76f9678-738d-4988-bd0c-0ba47a170144",
   "metadata": {},
   "outputs": [],
   "source": []
  },
  {
   "cell_type": "code",
   "execution_count": 33,
   "id": "5cc4c2ff-1659-4bf5-8f5c-5d017470cdda",
   "metadata": {},
   "outputs": [],
   "source": [
    "#Convert JSON File to Python Object"
   ]
  },
  {
   "cell_type": "code",
   "execution_count": 34,
   "id": "b5936fe1-978c-45f9-85f1-5ae2babc15f5",
   "metadata": {},
   "outputs": [
    {
     "name": "stdout",
     "output_type": "stream",
     "text": [
      "Type: <class 'dict'>\n",
      "\n",
      "THE  FRUIT IS: Apple\n"
     ]
    }
   ],
   "source": [
    "import json\n",
    " \n",
    "# Opening JSON file\n",
    "with open('data.json') as json_file:\n",
    "    data = json.load(json_file)\n",
    " \n",
    "    # Print the type of data variable\n",
    "    print(\"Type:\", type(data))\n",
    " \n",
    "    # Print the data of dictionary\n",
    "    print(\"\\nTHE  FRUIT IS:\", data['fruit'])\n",
    "    \n"
   ]
  },
  {
   "cell_type": "code",
   "execution_count": null,
   "id": "ec068372-a4c9-434e-b38a-b863a720ccae",
   "metadata": {},
   "outputs": [],
   "source": []
  },
  {
   "cell_type": "code",
   "execution_count": 41,
   "id": "dcf15a39-7b63-403a-ad0a-e738818ad831",
   "metadata": {},
   "outputs": [],
   "source": [
    "#Python read JSON file"
   ]
  },
  {
   "cell_type": "code",
   "execution_count": 42,
   "id": "c472b136-de66-4453-ab96-6676470c232a",
   "metadata": {},
   "outputs": [
    {
     "name": "stdout",
     "output_type": "stream",
     "text": [
      "L\n",
      "a\n",
      "r\n",
      "g\n",
      "e\n"
     ]
    }
   ],
   "source": [
    "\n",
    "import json\n",
    " \n",
    "# Opening JSON file\n",
    "f = open('data.json',)\n",
    " \n",
    "# returns JSON object as\n",
    "# a dictionary\n",
    "data = json.load(f)\n",
    " \n",
    "# Iterating through the json\n",
    "# list\n",
    "for i in data['size']:\n",
    "    print(i)\n",
    " \n",
    "# Closing file\n",
    "f.close()\n",
    "\n"
   ]
  },
  {
   "cell_type": "code",
   "execution_count": null,
   "id": "867c9861-c449-4236-b203-181bca4f4e06",
   "metadata": {},
   "outputs": [],
   "source": []
  }
 ],
 "metadata": {
  "kernelspec": {
   "display_name": "Python 3 (ipykernel)",
   "language": "python",
   "name": "python3"
  },
  "language_info": {
   "codemirror_mode": {
    "name": "ipython",
    "version": 3
   },
   "file_extension": ".py",
   "mimetype": "text/x-python",
   "name": "python",
   "nbconvert_exporter": "python",
   "pygments_lexer": "ipython3",
   "version": "3.11.5"
  }
 },
 "nbformat": 4,
 "nbformat_minor": 5
}
