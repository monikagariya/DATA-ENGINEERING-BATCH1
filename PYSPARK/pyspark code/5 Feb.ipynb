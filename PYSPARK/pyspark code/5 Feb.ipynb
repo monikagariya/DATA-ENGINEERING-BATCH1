{
 "cells": [
  {
   "cell_type": "markdown",
   "id": "66bbdf77-cf29-4f77-a5b9-15d2aaf54864",
   "metadata": {},
   "source": [
    "PySpark"
   ]
  },
  {
   "cell_type": "code",
   "execution_count": 2,
   "id": "18ac19eb-2db4-49ed-bda7-d1499c4ffaae",
   "metadata": {},
   "outputs": [
    {
     "name": "stdout",
     "output_type": "stream",
     "text": [
      "Requirement already satisfied: pyspark in c:\\users\\user\\anaconda3\\lib\\site-packages (3.5.0)\n",
      "Requirement already satisfied: py4j==0.10.9.7 in c:\\users\\user\\anaconda3\\lib\\site-packages (from pyspark) (0.10.9.7)\n"
     ]
    }
   ],
   "source": [
    "!pip install pyspark"
   ]
  },
  {
   "cell_type": "code",
   "execution_count": 3,
   "id": "5f1ab695-2190-456a-8b4a-97445cd29c76",
   "metadata": {},
   "outputs": [],
   "source": [
    "import pyspark"
   ]
  },
  {
   "cell_type": "code",
   "execution_count": 4,
   "id": "d267b8b7-9640-4d5a-9b1a-9306ba5881c2",
   "metadata": {},
   "outputs": [],
   "source": [
    "from pyspark.sql import SparkSession"
   ]
  },
  {
   "cell_type": "code",
   "execution_count": 5,
   "id": "23dfd53a-e65e-44a8-9877-038cc172a618",
   "metadata": {},
   "outputs": [],
   "source": [
    "spark = SparkSession.builder.appName(\"Practice\").getOrCreate()"
   ]
  },
  {
   "cell_type": "code",
   "execution_count": 6,
   "id": "31794932-58ea-4c1d-9762-babbd5cf5a94",
   "metadata": {},
   "outputs": [
    {
     "data": {
      "text/html": [
       "\n",
       "            <div>\n",
       "                <p><b>SparkSession - in-memory</b></p>\n",
       "                \n",
       "        <div>\n",
       "            <p><b>SparkContext</b></p>\n",
       "\n",
       "            <p><a href=\"http://LAPTOP-9MULI30U:4041\">Spark UI</a></p>\n",
       "\n",
       "            <dl>\n",
       "              <dt>Version</dt>\n",
       "                <dd><code>v3.5.0</code></dd>\n",
       "              <dt>Master</dt>\n",
       "                <dd><code>local[*]</code></dd>\n",
       "              <dt>AppName</dt>\n",
       "                <dd><code>Practice</code></dd>\n",
       "            </dl>\n",
       "        </div>\n",
       "        \n",
       "            </div>\n",
       "        "
      ],
      "text/plain": [
       "<pyspark.sql.session.SparkSession at 0x1bdc9bd74d0>"
      ]
     },
     "execution_count": 6,
     "metadata": {},
     "output_type": "execute_result"
    }
   ],
   "source": [
    "spark"
   ]
  },
  {
   "cell_type": "markdown",
   "id": "7e305fa3-37d1-424e-b4ff-b1aea0aa8b92",
   "metadata": {},
   "source": [
    "#USING PARALLIZE"
   ]
  },
  {
   "cell_type": "code",
   "execution_count": 7,
   "id": "0e79fc5e-352a-4bb7-8e2a-916cdf839bc1",
   "metadata": {},
   "outputs": [
    {
     "data": {
      "text/plain": [
       "DataFrame[_c0: string, _c1: string, _c2: string, _c3: string, _c4: string, _c5: string, _c6: string, _c7: string, _c8: string]"
      ]
     },
     "execution_count": 7,
     "metadata": {},
     "output_type": "execute_result"
    }
   ],
   "source": [
    "df = spark.read.csv(\"diabetes.csv\")\n",
    "df"
   ]
  },
  {
   "cell_type": "code",
   "execution_count": 8,
   "id": "f45114c4-22cd-4fed-86ba-3895bebbb60a",
   "metadata": {},
   "outputs": [
    {
     "name": "stdout",
     "output_type": "stream",
     "text": [
      "+-----------+-------+-------------+-------------+-------+----+--------------------+---+-------+\n",
      "|        _c0|    _c1|          _c2|          _c3|    _c4| _c5|                 _c6|_c7|    _c8|\n",
      "+-----------+-------+-------------+-------------+-------+----+--------------------+---+-------+\n",
      "|Pregnancies|Glucose|BloodPressure|SkinThickness|Insulin| BMI|DiabetesPedigreeF...|Age|Outcome|\n",
      "|          6|    148|           72|           35|      0|33.6|               0.627| 50|      1|\n",
      "|          1|     85|           66|           29|      0|26.6|               0.351| 31|      0|\n",
      "|          8|    183|           64|            0|      0|23.3|               0.672| 32|      1|\n",
      "|          1|     89|           66|           23|     94|28.1|               0.167| 21|      0|\n",
      "|          0|    137|           40|           35|    168|43.1|               2.288| 33|      1|\n",
      "|          5|    116|           74|            0|      0|25.6|               0.201| 30|      0|\n",
      "|          3|     78|           50|           32|     88|  31|               0.248| 26|      1|\n",
      "|         10|    115|            0|            0|      0|35.3|               0.134| 29|      0|\n",
      "|          2|    197|           70|           45|    543|30.5|               0.158| 53|      1|\n",
      "|          8|    125|           96|            0|      0|   0|               0.232| 54|      1|\n",
      "|          4|    110|           92|            0|      0|37.6|               0.191| 30|      0|\n",
      "|         10|    168|           74|            0|      0|  38|               0.537| 34|      1|\n",
      "|         10|    139|           80|            0|      0|27.1|               1.441| 57|      0|\n",
      "|          1|    189|           60|           23|    846|30.1|               0.398| 59|      1|\n",
      "|          5|    166|           72|           19|    175|25.8|               0.587| 51|      1|\n",
      "|          7|    100|            0|            0|      0|  30|               0.484| 32|      1|\n",
      "|          0|    118|           84|           47|    230|45.8|               0.551| 31|      1|\n",
      "|          7|    107|           74|            0|      0|29.6|               0.254| 31|      1|\n",
      "|          1|    103|           30|           38|     83|43.3|               0.183| 33|      0|\n",
      "+-----------+-------+-------------+-------------+-------+----+--------------------+---+-------+\n",
      "only showing top 20 rows\n",
      "\n"
     ]
    }
   ],
   "source": [
    "df.show()"
   ]
  },
  {
   "cell_type": "code",
   "execution_count": 9,
   "id": "4caa63db-e211-4663-8995-512776ca8073",
   "metadata": {},
   "outputs": [
    {
     "data": {
      "text/plain": [
       "('RDD Contents:', [('Java', 20000), ('Python', 100000), ('Scala', 3000)])"
      ]
     },
     "execution_count": 9,
     "metadata": {},
     "output_type": "execute_result"
    }
   ],
   "source": [
    "dataList = [(\"Java\", 20000), (\"Python\", 100000), (\"Scala\", 3000)]\n",
    "rdd=spark.sparkContext.parallelize(dataList)\n",
    "result=rdd.collect()\n",
    "(\"RDD Contents:\", result)"
   ]
  },
  {
   "cell_type": "code",
   "execution_count": 10,
   "id": "bb6c3722-bbf0-404e-9e38-a959730b8514",
   "metadata": {},
   "outputs": [
    {
     "data": {
      "text/plain": [
       "['name      age      Experience',\n",
       " 'Ram        30       5',\n",
       " 'aman       42       10',\n",
       " 'Monika     23       2']"
      ]
     },
     "execution_count": 10,
     "metadata": {},
     "output_type": "execute_result"
    }
   ],
   "source": [
    "\n",
    "rdd2 = spark.sparkContext.textFile(\"abc.txt\")\n",
    "rdd2.collect()"
   ]
  },
  {
   "cell_type": "code",
   "execution_count": 11,
   "id": "eece1d48-9962-48dc-9d5a-739d42403257",
   "metadata": {},
   "outputs": [],
   "source": [
    "import findspark\n",
    "findspark.init()\n"
   ]
  },
  {
   "cell_type": "markdown",
   "id": "3d5334c0-6ff1-4086-ad55-16bec1c2682c",
   "metadata": {},
   "source": [
    "#ACTIONS IN PYSPARK'S RDD"
   ]
  },
  {
   "cell_type": "code",
   "execution_count": 12,
   "id": "a0703049-cb65-4fbf-af90-04d91da193f2",
   "metadata": {},
   "outputs": [],
   "source": [
    "from pyspark import SparkContext\n",
    "sc = SparkContext.getOrCreate()"
   ]
  },
  {
   "cell_type": "code",
   "execution_count": 6,
   "id": "7deb50de-3d5d-4289-a312-2515798a02ca",
   "metadata": {},
   "outputs": [
    {
     "name": "stdout",
     "output_type": "stream",
     "text": [
      "[1, 2, 3, 4, 5]\n"
     ]
    }
   ],
   "source": [
    "collect_rdd = sc.parallelize([1,2,3,4,5])\n",
    "print(collect_rdd.collect())"
   ]
  },
  {
   "cell_type": "code",
   "execution_count": null,
   "id": "5bf55324-b090-4b49-a92a-1031522e610d",
   "metadata": {},
   "outputs": [],
   "source": []
  },
  {
   "cell_type": "code",
   "execution_count": null,
   "id": "7594692b-6483-4764-9601-053ca7d7ba7f",
   "metadata": {},
   "outputs": [],
   "source": []
  },
  {
   "cell_type": "code",
   "execution_count": null,
   "id": "089031d4-89a0-4a6e-864e-240fd98b5b67",
   "metadata": {},
   "outputs": [],
   "source": []
  }
 ],
 "metadata": {
  "kernelspec": {
   "display_name": "Python 3 (ipykernel)",
   "language": "python",
   "name": "python3"
  },
  "language_info": {
   "codemirror_mode": {
    "name": "ipython",
    "version": 3
   },
   "file_extension": ".py",
   "mimetype": "text/x-python",
   "name": "python",
   "nbconvert_exporter": "python",
   "pygments_lexer": "ipython3",
   "version": "3.11.5"
  }
 },
 "nbformat": 4,
 "nbformat_minor": 5
}
