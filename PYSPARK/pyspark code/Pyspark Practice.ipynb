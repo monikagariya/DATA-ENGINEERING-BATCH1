{
 "cells": [
  {
   "cell_type": "code",
   "execution_count": 2,
   "id": "5a4619ef-1976-4d49-a932-a228418359a2",
   "metadata": {},
   "outputs": [],
   "source": [
    "import pyspark\n"
   ]
  },
  {
   "cell_type": "code",
   "execution_count": 3,
   "id": "3e112f1f-72ab-43c2-8c34-5e9dd4fbeec6",
   "metadata": {},
   "outputs": [],
   "source": [
    "from pyspark.sql import SparkSession"
   ]
  },
  {
   "cell_type": "code",
   "execution_count": 5,
   "id": "93a967d4-f620-4850-9fb8-80f484f50672",
   "metadata": {},
   "outputs": [],
   "source": [
    "spark = SparkSession.builder.appName(\"Test\").getOrCreate()"
   ]
  },
  {
   "cell_type": "code",
   "execution_count": 6,
   "id": "b4f8a49d-2213-40d7-96fe-abd93dd578fd",
   "metadata": {},
   "outputs": [
    {
     "data": {
      "text/html": [
       "\n",
       "            <div>\n",
       "                <p><b>SparkSession - in-memory</b></p>\n",
       "                \n",
       "        <div>\n",
       "            <p><b>SparkContext</b></p>\n",
       "\n",
       "            <p><a href=\"http://LAPTOP-9MULI30U:4042\">Spark UI</a></p>\n",
       "\n",
       "            <dl>\n",
       "              <dt>Version</dt>\n",
       "                <dd><code>v3.5.0</code></dd>\n",
       "              <dt>Master</dt>\n",
       "                <dd><code>local[*]</code></dd>\n",
       "              <dt>AppName</dt>\n",
       "                <dd><code>Practice</code></dd>\n",
       "            </dl>\n",
       "        </div>\n",
       "        \n",
       "            </div>\n",
       "        "
      ],
      "text/plain": [
       "<pyspark.sql.session.SparkSession at 0x1da15ad38c0>"
      ]
     },
     "execution_count": 6,
     "metadata": {},
     "output_type": "execute_result"
    }
   ],
   "source": [
    "spark"
   ]
  },
  {
   "cell_type": "markdown",
   "id": "aace3b5c-29f3-477e-bab2-1db402f17ec3",
   "metadata": {},
   "source": [
    "#READ THE DATASET"
   ]
  },
  {
   "cell_type": "code",
   "execution_count": 16,
   "id": "0da978e9-fe75-4b5e-b764-4c81e875a47d",
   "metadata": {},
   "outputs": [],
   "source": [
    "df_pyspark=spark.read.option('header','true').csv('diabetes.csv')"
   ]
  },
  {
   "cell_type": "code",
   "execution_count": 17,
   "id": "7d7940e9-7f71-4d80-bbd4-4e8159a3e0aa",
   "metadata": {},
   "outputs": [
    {
     "name": "stdout",
     "output_type": "stream",
     "text": [
      "+-----------+-------+-------------+-------------+-------+----+------------------------+---+-------+\n",
      "|Pregnancies|Glucose|BloodPressure|SkinThickness|Insulin| BMI|DiabetesPedigreeFunction|Age|Outcome|\n",
      "+-----------+-------+-------------+-------------+-------+----+------------------------+---+-------+\n",
      "|          6|    148|           72|           35|      0|33.6|                   0.627| 50|      1|\n",
      "|          1|     85|           66|           29|      0|26.6|                   0.351| 31|      0|\n",
      "|          8|    183|           64|            0|      0|23.3|                   0.672| 32|      1|\n",
      "|          1|     89|           66|           23|     94|28.1|                   0.167| 21|      0|\n",
      "|          0|    137|           40|           35|    168|43.1|                   2.288| 33|      1|\n",
      "|          5|    116|           74|            0|      0|25.6|                   0.201| 30|      0|\n",
      "|          3|     78|           50|           32|     88|  31|                   0.248| 26|      1|\n",
      "|         10|    115|            0|            0|      0|35.3|                   0.134| 29|      0|\n",
      "|          2|    197|           70|           45|    543|30.5|                   0.158| 53|      1|\n",
      "|          8|    125|           96|            0|      0|   0|                   0.232| 54|      1|\n",
      "|          4|    110|           92|            0|      0|37.6|                   0.191| 30|      0|\n",
      "|         10|    168|           74|            0|      0|  38|                   0.537| 34|      1|\n",
      "|         10|    139|           80|            0|      0|27.1|                   1.441| 57|      0|\n",
      "|          1|    189|           60|           23|    846|30.1|                   0.398| 59|      1|\n",
      "|          5|    166|           72|           19|    175|25.8|                   0.587| 51|      1|\n",
      "|          7|    100|            0|            0|      0|  30|                   0.484| 32|      1|\n",
      "|          0|    118|           84|           47|    230|45.8|                   0.551| 31|      1|\n",
      "|          7|    107|           74|            0|      0|29.6|                   0.254| 31|      1|\n",
      "|          1|    103|           30|           38|     83|43.3|                   0.183| 33|      0|\n",
      "|          1|    115|           70|           30|     96|34.6|                   0.529| 32|      1|\n",
      "+-----------+-------+-------------+-------------+-------+----+------------------------+---+-------+\n",
      "only showing top 20 rows\n",
      "\n"
     ]
    }
   ],
   "source": [
    "df_pyspark.show()"
   ]
  },
  {
   "cell_type": "markdown",
   "id": "ae4fcfe7-de7c-40d7-a3aa-7b31f199373a",
   "metadata": {},
   "source": [
    "\n",
    "#CHECH THE SCHEMA"
   ]
  },
  {
   "cell_type": "code",
   "execution_count": 14,
   "id": "6e2e7f76-c0e4-4362-af8c-32978c93aa3e",
   "metadata": {},
   "outputs": [
    {
     "name": "stdout",
     "output_type": "stream",
     "text": [
      "root\n",
      " |-- Pregnancies: string (nullable = true)\n",
      " |-- Glucose: string (nullable = true)\n",
      " |-- BloodPressure: string (nullable = true)\n",
      " |-- SkinThickness: string (nullable = true)\n",
      " |-- Insulin: string (nullable = true)\n",
      " |-- BMI: string (nullable = true)\n",
      " |-- DiabetesPedigreeFunction: string (nullable = true)\n",
      " |-- Age: string (nullable = true)\n",
      " |-- Outcome: string (nullable = true)\n",
      "\n"
     ]
    }
   ],
   "source": [
    "df_pyspark.printSchema()"
   ]
  },
  {
   "cell_type": "code",
   "execution_count": 19,
   "id": "dc9740e9-29e0-4b2a-b840-f22aef6127f2",
   "metadata": {},
   "outputs": [],
   "source": [
    "df_pyspark=spark.read.csv('diabetes.csv',header= 'true',inferSchema='true')"
   ]
  },
  {
   "cell_type": "code",
   "execution_count": 20,
   "id": "8ee981f0-2d60-4c0a-aad1-16dc67c1b1db",
   "metadata": {},
   "outputs": [
    {
     "name": "stdout",
     "output_type": "stream",
     "text": [
      "root\n",
      " |-- Pregnancies: integer (nullable = true)\n",
      " |-- Glucose: integer (nullable = true)\n",
      " |-- BloodPressure: integer (nullable = true)\n",
      " |-- SkinThickness: integer (nullable = true)\n",
      " |-- Insulin: integer (nullable = true)\n",
      " |-- BMI: double (nullable = true)\n",
      " |-- DiabetesPedigreeFunction: double (nullable = true)\n",
      " |-- Age: integer (nullable = true)\n",
      " |-- Outcome: integer (nullable = true)\n",
      "\n"
     ]
    }
   ],
   "source": [
    "df_pyspark.printSchema()"
   ]
  },
  {
   "cell_type": "markdown",
   "id": "d70ebd88-bd18-4732-930a-326ed39f85ab",
   "metadata": {},
   "source": [
    "#GETTING THE COLUMN"
   ]
  },
  {
   "cell_type": "code",
   "execution_count": 25,
   "id": "805b61ca-c209-41f6-8691-0c42271b8220",
   "metadata": {},
   "outputs": [
    {
     "name": "stdout",
     "output_type": "stream",
     "text": [
      "+-----------+-------+-------------+-------------+-------+----+------------------------+---+-------+\n",
      "|Pregnancies|Glucose|BloodPressure|SkinThickness|Insulin| BMI|DiabetesPedigreeFunction|Age|Outcome|\n",
      "+-----------+-------+-------------+-------------+-------+----+------------------------+---+-------+\n",
      "|          6|    148|           72|           35|      0|33.6|                   0.627| 50|      1|\n",
      "|          1|     85|           66|           29|      0|26.6|                   0.351| 31|      0|\n",
      "|          8|    183|           64|            0|      0|23.3|                   0.672| 32|      1|\n",
      "|          1|     89|           66|           23|     94|28.1|                   0.167| 21|      0|\n",
      "|          0|    137|           40|           35|    168|43.1|                   2.288| 33|      1|\n",
      "|          5|    116|           74|            0|      0|25.6|                   0.201| 30|      0|\n",
      "|          3|     78|           50|           32|     88|31.0|                   0.248| 26|      1|\n",
      "|         10|    115|            0|            0|      0|35.3|                   0.134| 29|      0|\n",
      "|          2|    197|           70|           45|    543|30.5|                   0.158| 53|      1|\n",
      "|          8|    125|           96|            0|      0| 0.0|                   0.232| 54|      1|\n",
      "|          4|    110|           92|            0|      0|37.6|                   0.191| 30|      0|\n",
      "|         10|    168|           74|            0|      0|38.0|                   0.537| 34|      1|\n",
      "|         10|    139|           80|            0|      0|27.1|                   1.441| 57|      0|\n",
      "|          1|    189|           60|           23|    846|30.1|                   0.398| 59|      1|\n",
      "|          5|    166|           72|           19|    175|25.8|                   0.587| 51|      1|\n",
      "|          7|    100|            0|            0|      0|30.0|                   0.484| 32|      1|\n",
      "|          0|    118|           84|           47|    230|45.8|                   0.551| 31|      1|\n",
      "|          7|    107|           74|            0|      0|29.6|                   0.254| 31|      1|\n",
      "|          1|    103|           30|           38|     83|43.3|                   0.183| 33|      0|\n",
      "|          1|    115|           70|           30|     96|34.6|                   0.529| 32|      1|\n",
      "+-----------+-------+-------------+-------------+-------+----+------------------------+---+-------+\n",
      "only showing top 20 rows\n",
      "\n"
     ]
    }
   ],
   "source": [
    "df_pyspark.show()"
   ]
  },
  {
   "cell_type": "code",
   "execution_count": 29,
   "id": "aea7182a-e32e-4631-9ec1-6299e5424f16",
   "metadata": {},
   "outputs": [
    {
     "name": "stdout",
     "output_type": "stream",
     "text": [
      "+-------+\n",
      "|Glucose|\n",
      "+-------+\n",
      "|    148|\n",
      "|     85|\n",
      "|    183|\n",
      "|     89|\n",
      "|    137|\n",
      "|    116|\n",
      "|     78|\n",
      "|    115|\n",
      "|    197|\n",
      "|    125|\n",
      "|    110|\n",
      "|    168|\n",
      "|    139|\n",
      "|    189|\n",
      "|    166|\n",
      "|    100|\n",
      "|    118|\n",
      "|    107|\n",
      "|    103|\n",
      "|    115|\n",
      "+-------+\n",
      "only showing top 20 rows\n",
      "\n"
     ]
    }
   ],
   "source": [
    "df_pyspark.select('Glucose').show()"
   ]
  },
  {
   "cell_type": "code",
   "execution_count": 32,
   "id": "93176f80-5a23-456f-8be9-76ede3416bef",
   "metadata": {},
   "outputs": [
    {
     "name": "stdout",
     "output_type": "stream",
     "text": [
      "+-------+----+\n",
      "|Glucose| BMI|\n",
      "+-------+----+\n",
      "|    148|33.6|\n",
      "|     85|26.6|\n",
      "|    183|23.3|\n",
      "|     89|28.1|\n",
      "|    137|43.1|\n",
      "|    116|25.6|\n",
      "|     78|31.0|\n",
      "|    115|35.3|\n",
      "|    197|30.5|\n",
      "|    125| 0.0|\n",
      "|    110|37.6|\n",
      "|    168|38.0|\n",
      "|    139|27.1|\n",
      "|    189|30.1|\n",
      "|    166|25.8|\n",
      "|    100|30.0|\n",
      "|    118|45.8|\n",
      "|    107|29.6|\n",
      "|    103|43.3|\n",
      "|    115|34.6|\n",
      "+-------+----+\n",
      "only showing top 20 rows\n",
      "\n"
     ]
    }
   ],
   "source": [
    "df_pyspark.select(['Glucose','BMI']).show()"
   ]
  },
  {
   "cell_type": "code",
   "execution_count": 34,
   "id": "9da01125-d2e3-4ce8-80f4-27753eddeb50",
   "metadata": {},
   "outputs": [
    {
     "data": {
      "text/plain": [
       "[('Pregnancies', 'int'),\n",
       " ('Glucose', 'int'),\n",
       " ('BloodPressure', 'int'),\n",
       " ('SkinThickness', 'int'),\n",
       " ('Insulin', 'int'),\n",
       " ('BMI', 'double'),\n",
       " ('DiabetesPedigreeFunction', 'double'),\n",
       " ('Age', 'int'),\n",
       " ('Outcome', 'int')]"
      ]
     },
     "execution_count": 34,
     "metadata": {},
     "output_type": "execute_result"
    }
   ],
   "source": [
    "df_pyspark.dtypes"
   ]
  },
  {
   "cell_type": "markdown",
   "id": "e8ba78a7-84e7-4e5f-a0d1-332bdf0abeaa",
   "metadata": {},
   "source": [
    "#ADD A COLUMN IN DATAFRAME\n"
   ]
  },
  {
   "cell_type": "code",
   "execution_count": 38,
   "id": "17824967-0878-46b4-83d1-d410655caae4",
   "metadata": {},
   "outputs": [
    {
     "name": "stdout",
     "output_type": "stream",
     "text": [
      "+-----------+-------+-------------+-------------+-------+----+------------------------+---+-------+------+\n",
      "|Pregnancies|Glucose|BloodPressure|SkinThickness|Insulin| BMI|DiabetesPedigreeFunction|Age|Outcome|Result|\n",
      "+-----------+-------+-------------+-------------+-------+----+------------------------+---+-------+------+\n",
      "|          6|    148|           72|           35|      0|33.6|                   0.627| 50|      1|     1|\n",
      "|          1|     85|           66|           29|      0|26.6|                   0.351| 31|      0|     0|\n",
      "|          8|    183|           64|            0|      0|23.3|                   0.672| 32|      1|     1|\n",
      "|          1|     89|           66|           23|     94|28.1|                   0.167| 21|      0|     0|\n",
      "|          0|    137|           40|           35|    168|43.1|                   2.288| 33|      1|     1|\n",
      "|          5|    116|           74|            0|      0|25.6|                   0.201| 30|      0|     0|\n",
      "|          3|     78|           50|           32|     88|31.0|                   0.248| 26|      1|     1|\n",
      "|         10|    115|            0|            0|      0|35.3|                   0.134| 29|      0|     0|\n",
      "|          2|    197|           70|           45|    543|30.5|                   0.158| 53|      1|     1|\n",
      "|          8|    125|           96|            0|      0| 0.0|                   0.232| 54|      1|     1|\n",
      "|          4|    110|           92|            0|      0|37.6|                   0.191| 30|      0|     0|\n",
      "|         10|    168|           74|            0|      0|38.0|                   0.537| 34|      1|     1|\n",
      "|         10|    139|           80|            0|      0|27.1|                   1.441| 57|      0|     0|\n",
      "|          1|    189|           60|           23|    846|30.1|                   0.398| 59|      1|     1|\n",
      "|          5|    166|           72|           19|    175|25.8|                   0.587| 51|      1|     1|\n",
      "|          7|    100|            0|            0|      0|30.0|                   0.484| 32|      1|     1|\n",
      "|          0|    118|           84|           47|    230|45.8|                   0.551| 31|      1|     1|\n",
      "|          7|    107|           74|            0|      0|29.6|                   0.254| 31|      1|     1|\n",
      "|          1|    103|           30|           38|     83|43.3|                   0.183| 33|      0|     0|\n",
      "|          1|    115|           70|           30|     96|34.6|                   0.529| 32|      1|     1|\n",
      "+-----------+-------+-------------+-------------+-------+----+------------------------+---+-------+------+\n",
      "only showing top 20 rows\n",
      "\n"
     ]
    }
   ],
   "source": [
    "df_pyspark.withColumn('Result',df_pyspark['Outcome']+0).show()"
   ]
  },
  {
   "cell_type": "markdown",
   "id": "c76ad6a0-4b91-4c53-b343-227ff5b5f670",
   "metadata": {},
   "source": [
    "#DROP THE COLUMN"
   ]
  },
  {
   "cell_type": "code",
   "execution_count": 39,
   "id": "2fd204a3-30ae-4d42-bc68-2579c781e38c",
   "metadata": {},
   "outputs": [
    {
     "data": {
      "text/plain": [
       "DataFrame[Pregnancies: int, Glucose: int, BloodPressure: int, SkinThickness: int, Insulin: int, BMI: double, DiabetesPedigreeFunction: double, Age: int, Outcome: int]"
      ]
     },
     "execution_count": 39,
     "metadata": {},
     "output_type": "execute_result"
    }
   ],
   "source": [
    "df_pyspark.drop('Result')"
   ]
  },
  {
   "cell_type": "code",
   "execution_count": 40,
   "id": "0d1d45cb-34e0-4082-bb66-09ae0f855156",
   "metadata": {},
   "outputs": [
    {
     "name": "stdout",
     "output_type": "stream",
     "text": [
      "+-----------+-------+-------------+-------------+-------+----+------------------------+---+-------+\n",
      "|Pregnancies|Glucose|BloodPressure|SkinThickness|Insulin| BMI|DiabetesPedigreeFunction|Age|Outcome|\n",
      "+-----------+-------+-------------+-------------+-------+----+------------------------+---+-------+\n",
      "|          6|    148|           72|           35|      0|33.6|                   0.627| 50|      1|\n",
      "|          1|     85|           66|           29|      0|26.6|                   0.351| 31|      0|\n",
      "|          8|    183|           64|            0|      0|23.3|                   0.672| 32|      1|\n",
      "|          1|     89|           66|           23|     94|28.1|                   0.167| 21|      0|\n",
      "|          0|    137|           40|           35|    168|43.1|                   2.288| 33|      1|\n",
      "|          5|    116|           74|            0|      0|25.6|                   0.201| 30|      0|\n",
      "|          3|     78|           50|           32|     88|31.0|                   0.248| 26|      1|\n",
      "|         10|    115|            0|            0|      0|35.3|                   0.134| 29|      0|\n",
      "|          2|    197|           70|           45|    543|30.5|                   0.158| 53|      1|\n",
      "|          8|    125|           96|            0|      0| 0.0|                   0.232| 54|      1|\n",
      "|          4|    110|           92|            0|      0|37.6|                   0.191| 30|      0|\n",
      "|         10|    168|           74|            0|      0|38.0|                   0.537| 34|      1|\n",
      "|         10|    139|           80|            0|      0|27.1|                   1.441| 57|      0|\n",
      "|          1|    189|           60|           23|    846|30.1|                   0.398| 59|      1|\n",
      "|          5|    166|           72|           19|    175|25.8|                   0.587| 51|      1|\n",
      "|          7|    100|            0|            0|      0|30.0|                   0.484| 32|      1|\n",
      "|          0|    118|           84|           47|    230|45.8|                   0.551| 31|      1|\n",
      "|          7|    107|           74|            0|      0|29.6|                   0.254| 31|      1|\n",
      "|          1|    103|           30|           38|     83|43.3|                   0.183| 33|      0|\n",
      "|          1|    115|           70|           30|     96|34.6|                   0.529| 32|      1|\n",
      "+-----------+-------+-------------+-------------+-------+----+------------------------+---+-------+\n",
      "only showing top 20 rows\n",
      "\n"
     ]
    }
   ],
   "source": [
    "df_pyspark.show()"
   ]
  },
  {
   "cell_type": "markdown",
   "id": "7ab0fdb3-b10c-45c8-88b4-d03415910645",
   "metadata": {},
   "source": [
    "#RENAME THE COLUMN"
   ]
  },
  {
   "cell_type": "code",
   "execution_count": 44,
   "id": "0623ae84-72f2-4178-8f9c-8aa2611649c3",
   "metadata": {},
   "outputs": [
    {
     "name": "stdout",
     "output_type": "stream",
     "text": [
      "+-----------+-------+-------------+-------------+-------+----+------------------------+---+------+\n",
      "|Pregnancies|Glucose|BloodPressure|SkinThickness|Insulin| BMI|DiabetesPedigreeFunction|Age|Result|\n",
      "+-----------+-------+-------------+-------------+-------+----+------------------------+---+------+\n",
      "|          6|    148|           72|           35|      0|33.6|                   0.627| 50|     1|\n",
      "|          1|     85|           66|           29|      0|26.6|                   0.351| 31|     0|\n",
      "|          8|    183|           64|            0|      0|23.3|                   0.672| 32|     1|\n",
      "|          1|     89|           66|           23|     94|28.1|                   0.167| 21|     0|\n",
      "|          0|    137|           40|           35|    168|43.1|                   2.288| 33|     1|\n",
      "|          5|    116|           74|            0|      0|25.6|                   0.201| 30|     0|\n",
      "|          3|     78|           50|           32|     88|31.0|                   0.248| 26|     1|\n",
      "|         10|    115|            0|            0|      0|35.3|                   0.134| 29|     0|\n",
      "|          2|    197|           70|           45|    543|30.5|                   0.158| 53|     1|\n",
      "|          8|    125|           96|            0|      0| 0.0|                   0.232| 54|     1|\n",
      "|          4|    110|           92|            0|      0|37.6|                   0.191| 30|     0|\n",
      "|         10|    168|           74|            0|      0|38.0|                   0.537| 34|     1|\n",
      "|         10|    139|           80|            0|      0|27.1|                   1.441| 57|     0|\n",
      "|          1|    189|           60|           23|    846|30.1|                   0.398| 59|     1|\n",
      "|          5|    166|           72|           19|    175|25.8|                   0.587| 51|     1|\n",
      "|          7|    100|            0|            0|      0|30.0|                   0.484| 32|     1|\n",
      "|          0|    118|           84|           47|    230|45.8|                   0.551| 31|     1|\n",
      "|          7|    107|           74|            0|      0|29.6|                   0.254| 31|     1|\n",
      "|          1|    103|           30|           38|     83|43.3|                   0.183| 33|     0|\n",
      "|          1|    115|           70|           30|     96|34.6|                   0.529| 32|     1|\n",
      "+-----------+-------+-------------+-------------+-------+----+------------------------+---+------+\n",
      "only showing top 20 rows\n",
      "\n"
     ]
    }
   ],
   "source": [
    "df_pyspark.withColumnRenamed('Outcome','Result').show()"
   ]
  },
  {
   "cell_type": "code",
   "execution_count": 43,
   "id": "85b8ccce-2057-4335-8509-629f17db0727",
   "metadata": {},
   "outputs": [
    {
     "name": "stdout",
     "output_type": "stream",
     "text": [
      "+-----------+-------+-------------+-------------+-------+----+------------------------+---+-------+\n",
      "|Pregnancies|Glucose|BloodPressure|SkinThickness|Insulin| BMI|DiabetesPedigreeFunction|Age|Outcome|\n",
      "+-----------+-------+-------------+-------------+-------+----+------------------------+---+-------+\n",
      "|          6|    148|           72|           35|      0|33.6|                   0.627| 50|      1|\n",
      "|          1|     85|           66|           29|      0|26.6|                   0.351| 31|      0|\n",
      "|          8|    183|           64|            0|      0|23.3|                   0.672| 32|      1|\n",
      "|          1|     89|           66|           23|     94|28.1|                   0.167| 21|      0|\n",
      "|          0|    137|           40|           35|    168|43.1|                   2.288| 33|      1|\n",
      "|          5|    116|           74|            0|      0|25.6|                   0.201| 30|      0|\n",
      "|          3|     78|           50|           32|     88|31.0|                   0.248| 26|      1|\n",
      "|         10|    115|            0|            0|      0|35.3|                   0.134| 29|      0|\n",
      "|          2|    197|           70|           45|    543|30.5|                   0.158| 53|      1|\n",
      "|          8|    125|           96|            0|      0| 0.0|                   0.232| 54|      1|\n",
      "|          4|    110|           92|            0|      0|37.6|                   0.191| 30|      0|\n",
      "|         10|    168|           74|            0|      0|38.0|                   0.537| 34|      1|\n",
      "|         10|    139|           80|            0|      0|27.1|                   1.441| 57|      0|\n",
      "|          1|    189|           60|           23|    846|30.1|                   0.398| 59|      1|\n",
      "|          5|    166|           72|           19|    175|25.8|                   0.587| 51|      1|\n",
      "|          7|    100|            0|            0|      0|30.0|                   0.484| 32|      1|\n",
      "|          0|    118|           84|           47|    230|45.8|                   0.551| 31|      1|\n",
      "|          7|    107|           74|            0|      0|29.6|                   0.254| 31|      1|\n",
      "|          1|    103|           30|           38|     83|43.3|                   0.183| 33|      0|\n",
      "|          1|    115|           70|           30|     96|34.6|                   0.529| 32|      1|\n",
      "+-----------+-------+-------------+-------------+-------+----+------------------------+---+-------+\n",
      "only showing top 20 rows\n",
      "\n"
     ]
    }
   ],
   "source": [
    "df_pyspark.show()"
   ]
  },
  {
   "cell_type": "code",
   "execution_count": null,
   "id": "380d9daf-e1f1-4da3-8069-81dc38b67715",
   "metadata": {},
   "outputs": [],
   "source": []
  }
 ],
 "metadata": {
  "kernelspec": {
   "display_name": "Python 3 (ipykernel)",
   "language": "python",
   "name": "python3"
  },
  "language_info": {
   "codemirror_mode": {
    "name": "ipython",
    "version": 3
   },
   "file_extension": ".py",
   "mimetype": "text/x-python",
   "name": "python",
   "nbconvert_exporter": "python",
   "pygments_lexer": "ipython3",
   "version": "3.11.5"
  }
 },
 "nbformat": 4,
 "nbformat_minor": 5
}
